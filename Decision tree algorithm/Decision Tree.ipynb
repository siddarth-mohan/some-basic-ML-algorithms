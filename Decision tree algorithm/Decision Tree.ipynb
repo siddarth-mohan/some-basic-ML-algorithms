{
  "nbformat": 4,
  "nbformat_minor": 0,
  "metadata": {
    "kernelspec": {
      "display_name": "Python 3",
      "language": "python",
      "name": "python3"
    },
    "language_info": {
      "codemirror_mode": {
        "name": "ipython",
        "version": 3
      },
      "file_extension": ".py",
      "mimetype": "text/x-python",
      "name": "python",
      "nbconvert_exporter": "python",
      "pygments_lexer": "ipython3",
      "version": "3.7.3"
    },
    "colab": {
      "name": "decision tree final.ipynb",
      "provenance": [],
      "collapsed_sections": [],
      "toc_visible": true
    }
  },
  "cells": [
    {
      "cell_type": "markdown",
      "metadata": {
        "id": "sjPkgCqZqGZz"
      },
      "source": [
        "#### Importing neccessary libraries"
      ]
    },
    {
      "cell_type": "code",
      "metadata": {
        "id": "rmsRBcwUqGZ3"
      },
      "source": [
        "import numpy as np\n",
        "import seaborn as sns\n",
        "import matplotlib.pyplot as plt\n",
        "import pandas as pd"
      ],
      "execution_count": 1,
      "outputs": []
    },
    {
      "cell_type": "markdown",
      "metadata": {
        "id": "9SEEr1nVqGZ5"
      },
      "source": [
        "#### Reading the data into df"
      ]
    },
    {
      "cell_type": "code",
      "metadata": {
        "id": "0kGkx-iSqGZ6"
      },
      "source": [
        "df = pd.read_csv(\"Social_Network_Ads.csv\")"
      ],
      "execution_count": 2,
      "outputs": []
    },
    {
      "cell_type": "code",
      "metadata": {
        "id": "BZ6kgMdkqGZ7",
        "colab": {
          "base_uri": "https://localhost:8080/",
          "height": 195
        },
        "outputId": "eeb7fecf-7a97-4996-fba2-c7624c6ce677"
      },
      "source": [
        "df.head()"
      ],
      "execution_count": 3,
      "outputs": [
        {
          "output_type": "execute_result",
          "data": {
            "text/html": [
              "<div>\n",
              "<style scoped>\n",
              "    .dataframe tbody tr th:only-of-type {\n",
              "        vertical-align: middle;\n",
              "    }\n",
              "\n",
              "    .dataframe tbody tr th {\n",
              "        vertical-align: top;\n",
              "    }\n",
              "\n",
              "    .dataframe thead th {\n",
              "        text-align: right;\n",
              "    }\n",
              "</style>\n",
              "<table border=\"1\" class=\"dataframe\">\n",
              "  <thead>\n",
              "    <tr style=\"text-align: right;\">\n",
              "      <th></th>\n",
              "      <th>Age</th>\n",
              "      <th>EstimatedSalary</th>\n",
              "      <th>Purchased</th>\n",
              "    </tr>\n",
              "  </thead>\n",
              "  <tbody>\n",
              "    <tr>\n",
              "      <th>0</th>\n",
              "      <td>19</td>\n",
              "      <td>19000</td>\n",
              "      <td>0</td>\n",
              "    </tr>\n",
              "    <tr>\n",
              "      <th>1</th>\n",
              "      <td>35</td>\n",
              "      <td>20000</td>\n",
              "      <td>0</td>\n",
              "    </tr>\n",
              "    <tr>\n",
              "      <th>2</th>\n",
              "      <td>26</td>\n",
              "      <td>43000</td>\n",
              "      <td>0</td>\n",
              "    </tr>\n",
              "    <tr>\n",
              "      <th>3</th>\n",
              "      <td>27</td>\n",
              "      <td>57000</td>\n",
              "      <td>0</td>\n",
              "    </tr>\n",
              "    <tr>\n",
              "      <th>4</th>\n",
              "      <td>19</td>\n",
              "      <td>76000</td>\n",
              "      <td>0</td>\n",
              "    </tr>\n",
              "  </tbody>\n",
              "</table>\n",
              "</div>"
            ],
            "text/plain": [
              "   Age  EstimatedSalary  Purchased\n",
              "0   19            19000          0\n",
              "1   35            20000          0\n",
              "2   26            43000          0\n",
              "3   27            57000          0\n",
              "4   19            76000          0"
            ]
          },
          "metadata": {
            "tags": []
          },
          "execution_count": 3
        }
      ]
    },
    {
      "cell_type": "markdown",
      "metadata": {
        "id": "V6yZxRo4qGZ9"
      },
      "source": [
        "#### Value count for the target variable i.e purchased"
      ]
    },
    {
      "cell_type": "code",
      "metadata": {
        "id": "VwmVhwMqqGZ-",
        "colab": {
          "base_uri": "https://localhost:8080/"
        },
        "outputId": "0f07019e-0fd9-4126-8274-7c407e510ed6"
      },
      "source": [
        "df['Purchased'].value_counts()"
      ],
      "execution_count": 4,
      "outputs": [
        {
          "output_type": "execute_result",
          "data": {
            "text/plain": [
              "0    257\n",
              "1    143\n",
              "Name: Purchased, dtype: int64"
            ]
          },
          "metadata": {
            "tags": []
          },
          "execution_count": 4
        }
      ]
    },
    {
      "cell_type": "markdown",
      "metadata": {
        "id": "w-XAV8ZXqGaA"
      },
      "source": [
        "#### Checking is there any NULL values"
      ]
    },
    {
      "cell_type": "code",
      "metadata": {
        "id": "DaduGNKtqGaB",
        "colab": {
          "base_uri": "https://localhost:8080/"
        },
        "outputId": "82da2a6f-136a-4e4e-a05c-f2da5806e076"
      },
      "source": [
        "df.isna().sum()"
      ],
      "execution_count": 5,
      "outputs": [
        {
          "output_type": "execute_result",
          "data": {
            "text/plain": [
              "Age                0\n",
              "EstimatedSalary    0\n",
              "Purchased          0\n",
              "dtype: int64"
            ]
          },
          "metadata": {
            "tags": []
          },
          "execution_count": 5
        }
      ]
    },
    {
      "cell_type": "markdown",
      "metadata": {
        "id": "4_IrPqjZqGaC"
      },
      "source": [
        "#### Storing the independent attributes into x and target attribute into y"
      ]
    },
    {
      "cell_type": "code",
      "metadata": {
        "id": "GBApXmXHqGaD"
      },
      "source": [
        "x = df.iloc[:,0:2]\n",
        "y = df.iloc[:,-1]\n"
      ],
      "execution_count": 6,
      "outputs": []
    },
    {
      "cell_type": "markdown",
      "metadata": {
        "id": "oaesGwKpqGaE"
      },
      "source": [
        "#### Splitting the data into train test."
      ]
    },
    {
      "cell_type": "code",
      "metadata": {
        "id": "HpWe6tkhqGaF"
      },
      "source": [
        "from sklearn.model_selection import train_test_split\n",
        "X_train,X_test,y_train,y_test = train_test_split(x,y,test_size=0.2,random_state=0)"
      ],
      "execution_count": 7,
      "outputs": []
    },
    {
      "cell_type": "code",
      "metadata": {
        "id": "VcX6AgfcqGaG",
        "colab": {
          "base_uri": "https://localhost:8080/"
        },
        "outputId": "45866e6c-3b07-4f15-86f2-ff64f0f8025b"
      },
      "source": [
        "print(len(X_train))\n",
        "print(len(X_test))"
      ],
      "execution_count": 8,
      "outputs": [
        {
          "output_type": "stream",
          "text": [
            "320\n",
            "80\n"
          ],
          "name": "stdout"
        }
      ]
    },
    {
      "cell_type": "markdown",
      "metadata": {
        "id": "afowGc1PqGaH"
      },
      "source": [
        "#### Applying the feature Scaling "
      ]
    },
    {
      "cell_type": "code",
      "metadata": {
        "id": "TR_gXkvoqGaH"
      },
      "source": [
        "from sklearn.preprocessing import StandardScaler\n",
        "\n",
        "s = StandardScaler()\n",
        "X_train = s.fit_transform(X_train)\n",
        "X_test = s.fit_transform(X_test)"
      ],
      "execution_count": 9,
      "outputs": []
    },
    {
      "cell_type": "code",
      "metadata": {
        "id": "gyYR2SwcqGaI",
        "colab": {
          "base_uri": "https://localhost:8080/"
        },
        "outputId": "7917447b-20ef-46e0-a40f-fbadeb15e1b3"
      },
      "source": [
        "print(X_train)"
      ],
      "execution_count": 10,
      "outputs": [
        {
          "output_type": "stream",
          "text": [
            "[[ 1.92295008e+00  2.14601566e+00]\n",
            " [ 2.02016082e+00  3.78719297e-01]\n",
            " [-1.38221530e+00 -4.32498705e-01]\n",
            " [-1.18779381e+00 -1.01194013e+00]\n",
            " [ 1.92295008e+00 -9.25023920e-01]\n",
            " [ 3.67578135e-01  2.91803083e-01]\n",
            " [ 1.73156642e-01  1.46942725e-01]\n",
            " [ 2.02016082e+00  1.74040666e+00]\n",
            " [ 7.56421121e-01 -8.38107706e-01]\n",
            " [ 2.70367388e-01 -2.87638347e-01]\n",
            " [ 3.67578135e-01 -1.71750061e-01]\n",
            " [-1.18475597e-01  2.20395980e+00]\n",
            " [-1.47942605e+00 -6.35303205e-01]\n",
            " [-1.28500455e+00 -1.06988428e+00]\n",
            " [-1.38221530e+00  4.07691369e-01]\n",
            " [-1.09058306e+00  7.55356227e-01]\n",
            " [-1.47942605e+00 -2.00722133e-01]\n",
            " [ 9.50842613e-01 -1.06988428e+00]\n",
            " [ 9.50842613e-01  5.81523798e-01]\n",
            " [ 3.67578135e-01  9.87132798e-01]\n",
            " [ 5.61999628e-01 -8.96051849e-01]\n",
            " [-6.04529329e-01  1.45068594e+00]\n",
            " [-2.12648508e-02 -5.77359062e-01]\n",
            " [-6.04529329e-01  1.88526701e+00]\n",
            " [ 1.33968560e+00 -1.41754914e+00]\n",
            " [ 1.43689635e+00  9.87132798e-01]\n",
            " [ 7.59458956e-02 -8.09135634e-01]\n",
            " [-2.12648508e-02 -2.58666276e-01]\n",
            " [-2.15686344e-01 -5.77359062e-01]\n",
            " [-2.15686344e-01 -2.00722133e-01]\n",
            " [-3.12897090e-01 -1.30166085e+00]\n",
            " [-3.12897090e-01 -5.77359062e-01]\n",
            " [ 3.67578135e-01  8.89985821e-02]\n",
            " [ 8.53631867e-01 -6.06331134e-01]\n",
            " [ 2.02016082e+00 -1.18577256e+00]\n",
            " [ 1.04805336e+00 -1.42777990e-01]\n",
            " [ 6.59210374e-01  1.76937873e+00]\n",
            " [-7.01740076e-01  5.52551726e-01]\n",
            " [ 7.56421121e-01  3.49747226e-01]\n",
            " [ 8.53631867e-01 -5.48386991e-01]\n",
            " [-1.18779381e+00 -1.59138156e+00]\n",
            " [ 2.11737157e+00  9.29188655e-01]\n",
            " [-2.12648508e-02  1.21890937e+00]\n",
            " [ 1.73156642e-01  1.07404901e+00]\n",
            " [ 3.67578135e-01 -4.90442848e-01]\n",
            " [-3.12897090e-01 -3.16610419e-01]\n",
            " [ 9.50842613e-01 -8.38107706e-01]\n",
            " [ 9.50842613e-01  1.85629494e+00]\n",
            " [-2.12648508e-02  1.24788144e+00]\n",
            " [-8.96161568e-01  2.26190394e+00]\n",
            " [-1.18779381e+00 -1.59138156e+00]\n",
            " [ 2.11737157e+00 -8.09135634e-01]\n",
            " [-1.38221530e+00 -1.47549328e+00]\n",
            " [ 3.67578135e-01  2.29087602e+00]\n",
            " [ 7.56421121e-01  7.55356227e-01]\n",
            " [-9.93372315e-01 -3.16610419e-01]\n",
            " [ 7.59458956e-02  7.55356227e-01]\n",
            " [-9.93372315e-01  5.52551726e-01]\n",
            " [ 2.70367388e-01  6.00265106e-02]\n",
            " [ 6.59210374e-01 -1.27268878e+00]\n",
            " [-5.07318583e-01 -2.68897039e-02]\n",
            " [-1.77105829e+00  3.49747226e-01]\n",
            " [-7.01740076e-01  1.17970654e-01]\n",
            " [ 3.67578135e-01  2.91803083e-01]\n",
            " [-3.12897090e-01  6.00265106e-02]\n",
            " [-5.07318583e-01  2.29087602e+00]\n",
            " [ 1.73156642e-01  3.10544391e-02]\n",
            " [ 1.24247485e+00  2.20395980e+00]\n",
            " [ 7.56421121e-01  2.62831011e-01]\n",
            " [-3.12897090e-01  1.46942725e-01]\n",
            " [-2.12648508e-02 -5.48386991e-01]\n",
            " [-2.15686344e-01  1.46942725e-01]\n",
            " [-1.18475597e-01  2.33858940e-01]\n",
            " [-2.12648508e-02 -2.58666276e-01]\n",
            " [ 2.11737157e+00  1.10302108e+00]\n",
            " [-1.77105829e+00  3.49747226e-01]\n",
            " [ 1.82573933e+00  1.17970654e-01]\n",
            " [ 3.67578135e-01 -1.42777990e-01]\n",
            " [-1.18779381e+00  2.91803083e-01]\n",
            " [ 7.56421121e-01  1.36376973e+00]\n",
            " [-3.12897090e-01 -2.58666276e-01]\n",
            " [-1.67384754e+00 -5.58617754e-02]\n",
            " [-9.93372315e-01 -7.51191491e-01]\n",
            " [ 2.70367388e-01  4.94607583e-01]\n",
            " [-1.18475597e-01 -1.06988428e+00]\n",
            " [-1.09058306e+00  5.81523798e-01]\n",
            " [ 7.59458956e-02 -8.09135634e-01]\n",
            " [-9.93372315e-01  1.53760216e+00]\n",
            " [-7.01740076e-01  1.39274180e+00]\n",
            " [-1.28500455e+00  4.94607583e-01]\n",
            " [-3.12897090e-01  3.10544391e-02]\n",
            " [-1.18475597e-01  2.08236764e-03]\n",
            " [-3.12897090e-01 -8.96051849e-01]\n",
            " [ 8.53631867e-01 -1.35960499e+00]\n",
            " [-3.12897090e-01  2.23293187e+00]\n",
            " [ 9.50842613e-01  1.97218323e+00]\n",
            " [-1.18779381e+00  4.65635512e-01]\n",
            " [-1.28500455e+00  2.62831011e-01]\n",
            " [ 1.33968560e+00  1.97218323e+00]\n",
            " [ 1.24247485e+00 -1.35960499e+00]\n",
            " [-3.12897090e-01 -2.87638347e-01]\n",
            " [-5.07318583e-01  1.24788144e+00]\n",
            " [-7.98950822e-01  1.07404901e+00]\n",
            " [ 9.50842613e-01 -1.06988428e+00]\n",
            " [ 2.70367388e-01  2.91803083e-01]\n",
            " [ 9.50842613e-01  7.55356227e-01]\n",
            " [-7.01740076e-01 -1.50446535e+00]\n",
            " [-7.01740076e-01  3.10544391e-02]\n",
            " [ 4.64788881e-01  1.71143459e+00]\n",
            " [ 2.02016082e+00  1.75914797e-01]\n",
            " [-1.96547978e+00 -7.51191491e-01]\n",
            " [-2.15686344e-01  1.39274180e+00]\n",
            " [ 3.67578135e-01  5.81523798e-01]\n",
            " [ 8.53631867e-01 -1.15680049e+00]\n",
            " [-1.18779381e+00 -7.80163563e-01]\n",
            " [ 1.73156642e-01  2.33858940e-01]\n",
            " [ 7.56421121e-01 -3.16610419e-01]\n",
            " [ 2.02016082e+00 -8.09135634e-01]\n",
            " [ 7.56421121e-01  1.17970654e-01]\n",
            " [-3.12897090e-01  6.10495869e-01]\n",
            " [-9.93372315e-01 -3.16610419e-01]\n",
            " [ 1.73156642e-01 -3.74554562e-01]\n",
            " [ 2.02016082e+00  2.11704359e+00]\n",
            " [ 1.82573933e+00 -1.27268878e+00]\n",
            " [ 1.33968560e+00 -9.25023920e-01]\n",
            " [ 8.53631867e-01  1.24788144e+00]\n",
            " [ 1.43689635e+00  2.11704359e+00]\n",
            " [-3.12897090e-01 -1.24371671e+00]\n",
            " [ 1.92295008e+00  9.00216584e-01]\n",
            " [ 6.59210374e-01 -7.22219420e-01]\n",
            " [-1.47942605e+00  3.49747226e-01]\n",
            " [ 7.56421121e-01 -1.35960499e+00]\n",
            " [ 3.67578135e-01 -1.42777990e-01]\n",
            " [-9.93372315e-01  4.07691369e-01]\n",
            " [-2.12648508e-02 -3.16610419e-01]\n",
            " [-1.18779381e+00  4.07691369e-01]\n",
            " [-8.96161568e-01 -1.21474464e+00]\n",
            " [-1.18475597e-01  3.10544391e-02]\n",
            " [-1.57663679e+00 -4.32498705e-01]\n",
            " [ 9.50842613e-01 -1.01194013e+00]\n",
            " [ 1.04805336e+00 -1.21474464e+00]\n",
            " [-2.12648508e-02 -1.42777990e-01]\n",
            " [-1.09058306e+00 -1.53343742e+00]\n",
            " [ 7.56421121e-01 -1.21474464e+00]\n",
            " [ 9.50842613e-01  2.05909944e+00]\n",
            " [-1.18779381e+00 -1.53343742e+00]\n",
            " [-3.12897090e-01  7.84328298e-01]\n",
            " [ 7.59458956e-02 -3.16610419e-01]\n",
            " [-1.38221530e+00 -1.24371671e+00]\n",
            " [-6.04529329e-01 -1.50446535e+00]\n",
            " [ 7.56421121e-01  5.23579655e-01]\n",
            " [-3.12897090e-01 -3.45582490e-01]\n",
            " [ 1.72852858e+00 -2.87638347e-01]\n",
            " [ 8.53631867e-01 -1.04091221e+00]\n",
            " [ 1.73156642e-01  6.00265106e-02]\n",
            " [-6.04529329e-01  8.71244512e-01]\n",
            " [-1.86826903e+00 -1.41754914e+00]\n",
            " [-1.28500455e+00  5.81523798e-01]\n",
            " [-3.12897090e-01  5.23579655e-01]\n",
            " [-9.93372315e-01 -1.09885635e+00]\n",
            " [ 1.14526411e+00 -1.44652121e+00]\n",
            " [ 1.73156642e-01 -3.16610419e-01]\n",
            " [ 1.14526411e+00 -7.51191491e-01]\n",
            " [-3.12897090e-01  6.00265106e-02]\n",
            " [ 1.73156642e-01  2.08807152e+00]\n",
            " [ 7.56421121e-01 -1.09885635e+00]\n",
            " [ 7.59458956e-02  3.10544391e-02]\n",
            " [-1.77105829e+00  1.17970654e-01]\n",
            " [-8.96161568e-01  1.46942725e-01]\n",
            " [-7.01740076e-01  1.75914797e-01]\n",
            " [ 8.53631867e-01 -1.30166085e+00]\n",
            " [ 1.73156642e-01 -2.58666276e-01]\n",
            " [-4.10107836e-01  1.21890937e+00]\n",
            " [-2.12648508e-02  2.91803083e-01]\n",
            " [ 3.67578135e-01  1.46942725e-01]\n",
            " [ 8.53631867e-01 -6.64275277e-01]\n",
            " [ 7.59458956e-02  1.46942725e-01]\n",
            " [-1.86826903e+00 -1.30166085e+00]\n",
            " [-1.18475597e-01  2.91803083e-01]\n",
            " [-2.15686344e-01 -2.87638347e-01]\n",
            " [ 2.70367388e-01 -5.19414919e-01]\n",
            " [-2.15686344e-01  1.59554630e+00]\n",
            " [ 9.50842613e-01 -1.18577256e+00]\n",
            " [-2.15686344e-01  1.62451837e+00]\n",
            " [ 1.24247485e+00  1.85629494e+00]\n",
            " [-1.09058306e+00 -3.74554562e-01]\n",
            " [-2.12648508e-02  3.10544391e-02]\n",
            " [ 7.59458956e-02 -2.58666276e-01]\n",
            " [-1.57663679e+00 -1.24371671e+00]\n",
            " [-5.07318583e-01 -2.87638347e-01]\n",
            " [ 9.50842613e-01  1.17970654e-01]\n",
            " [ 1.92295008e+00 -1.35960499e+00]\n",
            " [ 1.43689635e+00  6.00265106e-02]\n",
            " [-6.04529329e-01  1.36376973e+00]\n",
            " [ 1.53410709e+00  2.08236764e-03]\n",
            " [-7.98950822e-01  2.91803083e-01]\n",
            " [ 1.92295008e+00  7.26384155e-01]\n",
            " [-1.18779381e+00 -5.19414919e-01]\n",
            " [ 6.59210374e-01  2.62831011e-01]\n",
            " [-1.38221530e+00 -4.32498705e-01]\n",
            " [ 1.73156642e-01  1.46942725e-01]\n",
            " [-5.07318583e-01 -1.21474464e+00]\n",
            " [ 5.61999628e-01  2.00115530e+00]\n",
            " [-1.57663679e+00 -1.50446535e+00]\n",
            " [-5.07318583e-01 -5.48386991e-01]\n",
            " [ 4.64788881e-01  1.82732287e+00]\n",
            " [-1.38221530e+00 -1.09885635e+00]\n",
            " [ 7.56421121e-01 -1.38857706e+00]\n",
            " [-3.12897090e-01 -4.32498705e-01]\n",
            " [ 1.53410709e+00  9.87132798e-01]\n",
            " [ 9.50842613e-01  1.42171387e+00]\n",
            " [-3.12897090e-01 -4.90442848e-01]\n",
            " [-1.18475597e-01  2.14601566e+00]\n",
            " [-1.47942605e+00 -1.13805918e-01]\n",
            " [-1.18475597e-01  1.94321116e+00]\n",
            " [-7.01740076e-01 -3.45582490e-01]\n",
            " [-5.07318583e-01 -8.38107706e-01]\n",
            " [ 6.59210374e-01 -1.38857706e+00]\n",
            " [-7.98950822e-01 -1.59138156e+00]\n",
            " [-1.86826903e+00 -1.47549328e+00]\n",
            " [ 1.04805336e+00  1.17970654e-01]\n",
            " [ 7.59458956e-02  1.50863009e+00]\n",
            " [-3.12897090e-01  8.89985821e-02]\n",
            " [ 7.59458956e-02  3.10544391e-02]\n",
            " [-1.38221530e+00 -1.35960499e+00]\n",
            " [ 2.70367388e-01  6.00265106e-02]\n",
            " [-8.96161568e-01  3.78719297e-01]\n",
            " [ 1.53410709e+00 -1.27268878e+00]\n",
            " [-3.12897090e-01 -7.51191491e-01]\n",
            " [-1.18475597e-01  1.46942725e-01]\n",
            " [-8.96161568e-01 -6.64275277e-01]\n",
            " [-7.01740076e-01 -5.58617754e-02]\n",
            " [ 3.67578135e-01 -4.61470776e-01]\n",
            " [-7.98950822e-01  1.88526701e+00]\n",
            " [ 1.33968560e+00  1.27685351e+00]\n",
            " [ 1.14526411e+00 -9.82968063e-01]\n",
            " [ 1.72852858e+00  1.82732287e+00]\n",
            " [-8.96161568e-01 -2.58666276e-01]\n",
            " [-7.98950822e-01  5.52551726e-01]\n",
            " [-1.18779381e+00 -1.56240949e+00]\n",
            " [-5.07318583e-01 -1.12782842e+00]\n",
            " [ 2.70367388e-01  6.00265106e-02]\n",
            " [-2.15686344e-01 -1.06988428e+00]\n",
            " [ 1.63131784e+00  1.59554630e+00]\n",
            " [ 9.50842613e-01  1.76937873e+00]\n",
            " [ 2.70367388e-01  3.10544391e-02]\n",
            " [-7.98950822e-01 -2.29694204e-01]\n",
            " [-1.18475597e-01  6.00265106e-02]\n",
            " [ 2.70367388e-01 -2.00722133e-01]\n",
            " [ 1.92295008e+00 -6.64275277e-01]\n",
            " [-7.98950822e-01  1.33479766e+00]\n",
            " [-1.77105829e+00 -6.06331134e-01]\n",
            " [-1.18475597e-01  1.17970654e-01]\n",
            " [ 2.70367388e-01 -3.16610419e-01]\n",
            " [ 1.04805336e+00  5.52551726e-01]\n",
            " [-9.93372315e-01  2.62831011e-01]\n",
            " [ 1.43689635e+00  3.49747226e-01]\n",
            " [ 1.73156642e-01 -3.74554562e-01]\n",
            " [ 2.11737157e+00 -1.04091221e+00]\n",
            " [-3.12897090e-01  1.10302108e+00]\n",
            " [-1.67384754e+00  6.00265106e-02]\n",
            " [-2.12648508e-02  3.10544391e-02]\n",
            " [ 7.59458956e-02  1.04507694e+00]\n",
            " [-1.18475597e-01 -3.74554562e-01]\n",
            " [-1.18779381e+00  6.00265106e-02]\n",
            " [-3.12897090e-01 -1.35960499e+00]\n",
            " [ 1.53410709e+00  1.10302108e+00]\n",
            " [-7.98950822e-01 -1.53343742e+00]\n",
            " [ 7.59458956e-02  1.85629494e+00]\n",
            " [-8.96161568e-01 -7.80163563e-01]\n",
            " [-5.07318583e-01 -7.80163563e-01]\n",
            " [-3.12897090e-01 -9.25023920e-01]\n",
            " [ 2.70367388e-01 -7.22219420e-01]\n",
            " [ 2.70367388e-01  6.00265106e-02]\n",
            " [ 7.59458956e-02  1.85629494e+00]\n",
            " [-1.09058306e+00  1.94321116e+00]\n",
            " [-1.67384754e+00 -1.56240949e+00]\n",
            " [-1.18779381e+00 -1.09885635e+00]\n",
            " [-7.01740076e-01 -1.13805918e-01]\n",
            " [ 7.59458956e-02  8.89985821e-02]\n",
            " [ 2.70367388e-01  2.62831011e-01]\n",
            " [ 8.53631867e-01 -5.77359062e-01]\n",
            " [ 2.70367388e-01 -1.15680049e+00]\n",
            " [-1.18475597e-01  6.68440012e-01]\n",
            " [ 2.11737157e+00 -6.93247348e-01]\n",
            " [-1.28500455e+00 -1.38857706e+00]\n",
            " [-9.93372315e-01 -9.53995992e-01]\n",
            " [-2.12648508e-02 -4.32498705e-01]\n",
            " [-2.15686344e-01 -4.61470776e-01]\n",
            " [-1.77105829e+00 -9.82968063e-01]\n",
            " [ 1.72852858e+00  9.87132798e-01]\n",
            " [ 1.73156642e-01 -3.74554562e-01]\n",
            " [ 3.67578135e-01  1.10302108e+00]\n",
            " [-1.77105829e+00 -1.35960499e+00]\n",
            " [ 1.73156642e-01 -1.42777990e-01]\n",
            " [ 8.53631867e-01 -1.44652121e+00]\n",
            " [-1.96547978e+00  4.65635512e-01]\n",
            " [-3.12897090e-01  2.62831011e-01]\n",
            " [ 1.82573933e+00 -1.06988428e+00]\n",
            " [-4.10107836e-01  6.00265106e-02]\n",
            " [ 1.04805336e+00 -8.96051849e-01]\n",
            " [-1.09058306e+00 -1.12782842e+00]\n",
            " [-1.86826903e+00  2.08236764e-03]\n",
            " [ 7.59458956e-02  2.62831011e-01]\n",
            " [-1.18779381e+00  3.20775154e-01]\n",
            " [-1.28500455e+00  2.91803083e-01]\n",
            " [-9.93372315e-01  4.36663440e-01]\n",
            " [ 1.63131784e+00 -8.96051849e-01]\n",
            " [ 1.14526411e+00  5.23579655e-01]\n",
            " [ 1.04805336e+00  5.23579655e-01]\n",
            " [ 1.33968560e+00  2.31984809e+00]\n",
            " [-3.12897090e-01 -1.42777990e-01]\n",
            " [ 3.67578135e-01 -4.61470776e-01]\n",
            " [-4.10107836e-01 -7.80163563e-01]\n",
            " [-1.18475597e-01 -5.19414919e-01]\n",
            " [ 9.50842613e-01 -1.15680049e+00]\n",
            " [-8.96161568e-01 -7.80163563e-01]\n",
            " [-2.15686344e-01 -5.19414919e-01]\n",
            " [-1.09058306e+00 -4.61470776e-01]\n",
            " [-1.18779381e+00  1.39274180e+00]]\n"
          ],
          "name": "stdout"
        }
      ]
    },
    {
      "cell_type": "code",
      "metadata": {
        "id": "QAJkMkWvqGaK",
        "colab": {
          "base_uri": "https://localhost:8080/"
        },
        "outputId": "903e8867-f31b-4ffb-8d16-b23c23c220ee"
      },
      "source": [
        "print(X_test)"
      ],
      "execution_count": 11,
      "outputs": [
        {
          "output_type": "stream",
          "text": [
            "[[-0.49618606  0.56021375]\n",
            " [ 0.2389044  -0.59133674]\n",
            " [-0.03675452  0.18673792]\n",
            " [-0.49618606  0.31122986]\n",
            " [-0.03675452 -0.59133674]\n",
            " [-0.77184498 -1.52502632]\n",
            " [-0.40429975 -1.68064126]\n",
            " [ 0.05513178  2.33422397]\n",
            " [-1.59882175 -0.03112299]\n",
            " [ 1.06588117 -0.80919764]\n",
            " [-0.49618606 -0.62245972]\n",
            " [-0.67995868 -0.43572181]\n",
            " [ 0.14701809 -0.43572181]\n",
            " [ 0.33079071  0.24898389]\n",
            " [-1.41504914  0.52909077]\n",
            " [-0.31241345  1.49390334]\n",
            " [ 0.14701809  0.24898389]\n",
            " [-1.50693545  0.49796778]\n",
            " [ 1.80097163  1.89850216]\n",
            " [-0.03675452 -1.46278035]\n",
            " [-0.03675452 -0.6847057 ]\n",
            " [ 1.06588117  2.33422397]\n",
            " [ 0.51456332 -0.56021375]\n",
            " [ 1.06588117  1.1204275 ]\n",
            " [-1.13939022 -1.27604243]\n",
            " [ 1.24965379  2.24085501]\n",
            " [-0.67995868  0.56021375]\n",
            " [-0.58807237  0.34235285]\n",
            " [ 0.14701809 -0.2178609 ]\n",
            " [-0.31241345  0.52909077]\n",
            " [-1.32316283  0.59133674]\n",
            " [ 0.14701809  0.31122986]\n",
            " [ 1.98474425 -0.28010688]\n",
            " [ 0.14701809 -0.49796778]\n",
            " [-1.04750391 -0.34235285]\n",
            " [-1.59882175 -0.52909077]\n",
            " [-1.23127652  0.37347583]\n",
            " [-0.12864083 -0.80919764]\n",
            " [-0.40429975 -1.08930452]\n",
            " [ 1.24965379 -1.02705855]\n",
            " [-0.77184498  0.59133674]\n",
            " [ 0.51456332 -0.52909077]\n",
            " [-0.77184498  0.46684479]\n",
            " [-0.03675452 -1.52502632]\n",
            " [ 0.69833594  1.33828841]\n",
            " [-0.77184498 -0.34235285]\n",
            " [ 0.14701809  0.34235285]\n",
            " [ 1.52531271  0.65358271]\n",
            " [-0.86373129 -1.21379646]\n",
            " [ 1.24965379  0.52909077]\n",
            " [ 1.98474425  1.64951827]\n",
            " [-0.12864083 -1.36941139]\n",
            " [-0.03675452 -0.37347583]\n",
            " [-0.12864083  1.43165737]\n",
            " [ 2.16851686  0.59133674]\n",
            " [ 0.88210855 -1.15155049]\n",
            " [-0.58807237  0.43572181]\n",
            " [-0.86373129  0.34235285]\n",
            " [ 1.24965379 -1.27604243]\n",
            " [-1.13939022 -1.52502632]\n",
            " [-0.31241345 -1.5872723 ]\n",
            " [ 2.26040317 -0.84032063]\n",
            " [-1.50693545  0.2178609 ]\n",
            " [ 0.05513178  0.93368959]\n",
            " [-1.50693545 -1.33828841]\n",
            " [ 2.26040317  0.43572181]\n",
            " [-1.04750391  0.62245972]\n",
            " [-0.77184498 -0.34235285]\n",
            " [ 0.42267702 -0.6847057 ]\n",
            " [ 0.60644963  0.03112299]\n",
            " [-0.31241345  2.52096188]\n",
            " [-0.03675452  0.24898389]\n",
            " [-1.23127652 -0.18673792]\n",
            " [ 0.88210855 -1.46278035]\n",
            " [-0.77184498  0.62245972]\n",
            " [-1.59882175  0.40459882]\n",
            " [ 0.60644963  0.31122986]\n",
            " [ 0.42267702 -0.28010688]\n",
            " [ 1.61719902 -1.08930452]\n",
            " [ 1.06588117  1.18267348]]\n"
          ],
          "name": "stdout"
        }
      ]
    },
    {
      "cell_type": "markdown",
      "metadata": {
        "id": "umWk1eocqGaL"
      },
      "source": [
        "#### Model training  using Decision Tree Classifier"
      ]
    },
    {
      "cell_type": "code",
      "metadata": {
        "id": "ouLKRH0sqGaO",
        "colab": {
          "base_uri": "https://localhost:8080/"
        },
        "outputId": "a45d2c2e-8fa7-4550-a92f-cfe7f6d3bccf"
      },
      "source": [
        "from sklearn.tree import DecisionTreeClassifier\n",
        "model = DecisionTreeClassifier()\n",
        "model.fit(X_train,y_train)"
      ],
      "execution_count": 12,
      "outputs": [
        {
          "output_type": "execute_result",
          "data": {
            "text/plain": [
              "DecisionTreeClassifier(ccp_alpha=0.0, class_weight=None, criterion='gini',\n",
              "                       max_depth=None, max_features=None, max_leaf_nodes=None,\n",
              "                       min_impurity_decrease=0.0, min_impurity_split=None,\n",
              "                       min_samples_leaf=1, min_samples_split=2,\n",
              "                       min_weight_fraction_leaf=0.0, presort='deprecated',\n",
              "                       random_state=None, splitter='best')"
            ]
          },
          "metadata": {
            "tags": []
          },
          "execution_count": 12
        }
      ]
    },
    {
      "cell_type": "markdown",
      "metadata": {
        "id": "9nBkhuuLqGaQ"
      },
      "source": [
        "#### Testing the model"
      ]
    },
    {
      "cell_type": "code",
      "metadata": {
        "id": "PJ6WEhdLqGaR"
      },
      "source": [
        "y_pred = model.predict(X_test)"
      ],
      "execution_count": 13,
      "outputs": []
    },
    {
      "cell_type": "markdown",
      "metadata": {
        "id": "hiejlef4qGaR"
      },
      "source": [
        "#### Confusion Matrix"
      ]
    },
    {
      "cell_type": "code",
      "metadata": {
        "id": "EAutMdxJqGaS",
        "colab": {
          "base_uri": "https://localhost:8080/"
        },
        "outputId": "9f5618af-ea6c-428e-a131-f0f10bef57b8"
      },
      "source": [
        "from sklearn.metrics import confusion_matrix,accuracy_score\n",
        "cm = confusion_matrix(y_test,y_pred)\n",
        "print(cm)"
      ],
      "execution_count": 14,
      "outputs": [
        {
          "output_type": "stream",
          "text": [
            "[[53  5]\n",
            " [ 2 20]]\n"
          ],
          "name": "stdout"
        }
      ]
    },
    {
      "cell_type": "markdown",
      "metadata": {
        "id": "Jn2W72lKqGaT"
      },
      "source": [
        "#### Accuracy Score"
      ]
    },
    {
      "cell_type": "code",
      "metadata": {
        "id": "gwUo6q8tqGaU",
        "colab": {
          "base_uri": "https://localhost:8080/"
        },
        "outputId": "9cbd7791-085d-46f3-8e34-d49cb9e8205d"
      },
      "source": [
        "print(accuracy_score(y_test, y_pred))"
      ],
      "execution_count": 15,
      "outputs": [
        {
          "output_type": "stream",
          "text": [
            "0.9125\n"
          ],
          "name": "stdout"
        }
      ]
    },
    {
      "cell_type": "markdown",
      "metadata": {
        "id": "qnLz2guIqGaV"
      },
      "source": [
        "#### Classification Report"
      ]
    },
    {
      "cell_type": "code",
      "metadata": {
        "id": "EUkNcYBUqGaW",
        "colab": {
          "base_uri": "https://localhost:8080/"
        },
        "outputId": "0b26ea65-dbe4-4e7c-8645-88cef4e4956b"
      },
      "source": [
        "from sklearn.metrics import classification_report\n",
        "print(classification_report(y_test,y_pred))"
      ],
      "execution_count": 16,
      "outputs": [
        {
          "output_type": "stream",
          "text": [
            "              precision    recall  f1-score   support\n",
            "\n",
            "           0       0.96      0.91      0.94        58\n",
            "           1       0.80      0.91      0.85        22\n",
            "\n",
            "    accuracy                           0.91        80\n",
            "   macro avg       0.88      0.91      0.89        80\n",
            "weighted avg       0.92      0.91      0.91        80\n",
            "\n"
          ],
          "name": "stdout"
        }
      ]
    },
    {
      "cell_type": "code",
      "metadata": {
        "id": "FL4i6nQGqGaX"
      },
      "source": [
        "# from six import StringIO\n",
        "# from IPython.display import Image\n",
        "# from sklearn.tree import export_graphviz\n",
        "# import pydotplus\n",
        "# dot_data = StringIO()\n",
        "# export_graphviz(model,out_file=dot_data,\n",
        "#                filled=True, rounded=True,\n",
        "#                special_characters=True)\n",
        "# graph = pydotplus.graph_from_dot_data(dot_data.getvalue())\n",
        "# Image(graph.create_png())"
      ],
      "execution_count": null,
      "outputs": []
    },
    {
      "cell_type": "markdown",
      "metadata": {
        "id": "nFjj_o78qGaY"
      },
      "source": [
        "#### Model Training using criteria entropy"
      ]
    },
    {
      "cell_type": "code",
      "metadata": {
        "id": "HPrCpFoxqGaY",
        "colab": {
          "base_uri": "https://localhost:8080/"
        },
        "outputId": "6d384f8e-fa8c-42c3-950e-0dffffd8c4a6"
      },
      "source": [
        "from sklearn.tree import DecisionTreeClassifier\n",
        "model1 = DecisionTreeClassifier(criterion='entropy')\n",
        "model1.fit(X_train,y_train)"
      ],
      "execution_count": 17,
      "outputs": [
        {
          "output_type": "execute_result",
          "data": {
            "text/plain": [
              "DecisionTreeClassifier(ccp_alpha=0.0, class_weight=None, criterion='entropy',\n",
              "                       max_depth=None, max_features=None, max_leaf_nodes=None,\n",
              "                       min_impurity_decrease=0.0, min_impurity_split=None,\n",
              "                       min_samples_leaf=1, min_samples_split=2,\n",
              "                       min_weight_fraction_leaf=0.0, presort='deprecated',\n",
              "                       random_state=None, splitter='best')"
            ]
          },
          "metadata": {
            "tags": []
          },
          "execution_count": 17
        }
      ]
    },
    {
      "cell_type": "markdown",
      "metadata": {
        "id": "UWCR9OqmqGaa"
      },
      "source": [
        "#### Testing the model"
      ]
    },
    {
      "cell_type": "code",
      "metadata": {
        "id": "R-LXW07uqGaa"
      },
      "source": [
        "y_pred1 = model1.predict(X_test)"
      ],
      "execution_count": 18,
      "outputs": []
    },
    {
      "cell_type": "markdown",
      "metadata": {
        "id": "M_KOnXxYqGab"
      },
      "source": [
        "#### Confusion Matrix"
      ]
    },
    {
      "cell_type": "code",
      "metadata": {
        "id": "N2CSzzijqGac",
        "colab": {
          "base_uri": "https://localhost:8080/"
        },
        "outputId": "cdbf4e80-2764-45e3-f1d3-3abd38a3592c"
      },
      "source": [
        "from sklearn.metrics import confusion_matrix,accuracy_score\n",
        "cm = confusion_matrix(y_test,y_pred1)\n",
        "print(cm)"
      ],
      "execution_count": 19,
      "outputs": [
        {
          "output_type": "stream",
          "text": [
            "[[53  5]\n",
            " [ 1 21]]\n"
          ],
          "name": "stdout"
        }
      ]
    },
    {
      "cell_type": "markdown",
      "metadata": {
        "id": "k7DvZKLCqGad"
      },
      "source": [
        "#### Accuracy Score"
      ]
    },
    {
      "cell_type": "code",
      "metadata": {
        "id": "fMKmw3eKqGad",
        "colab": {
          "base_uri": "https://localhost:8080/"
        },
        "outputId": "86447103-ea19-4ef9-d6aa-5f5edbeec466"
      },
      "source": [
        "print(accuracy_score(y_test, y_pred1))"
      ],
      "execution_count": 20,
      "outputs": [
        {
          "output_type": "stream",
          "text": [
            "0.925\n"
          ],
          "name": "stdout"
        }
      ]
    },
    {
      "cell_type": "markdown",
      "metadata": {
        "id": "O5qgT9ocqGae"
      },
      "source": [
        "#### Classification Report"
      ]
    },
    {
      "cell_type": "code",
      "metadata": {
        "id": "AAq3_lg-qGaf",
        "colab": {
          "base_uri": "https://localhost:8080/"
        },
        "outputId": "3060170b-ac25-4369-fb86-50a8a196c2a5"
      },
      "source": [
        "from sklearn.metrics import classification_report\n",
        "print(classification_report(y_test,y_pred))"
      ],
      "execution_count": 21,
      "outputs": [
        {
          "output_type": "stream",
          "text": [
            "              precision    recall  f1-score   support\n",
            "\n",
            "           0       0.96      0.91      0.94        58\n",
            "           1       0.80      0.91      0.85        22\n",
            "\n",
            "    accuracy                           0.91        80\n",
            "   macro avg       0.88      0.91      0.89        80\n",
            "weighted avg       0.92      0.91      0.91        80\n",
            "\n"
          ],
          "name": "stdout"
        }
      ]
    },
    {
      "cell_type": "code",
      "metadata": {
        "id": "DqhmCG-ZqGag"
      },
      "source": [
        ""
      ],
      "execution_count": null,
      "outputs": []
    }
  ]
}